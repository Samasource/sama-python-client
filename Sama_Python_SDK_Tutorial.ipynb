{
 "cells": [
  {
   "cell_type": "markdown",
   "metadata": {
    "application/vnd.databricks.v1+cell": {
     "cellMetadata": {},
     "inputWidgets": {},
     "nuid": "7f5530b2-b65d-45e5-898b-9e0019a5a0be",
     "showTitle": false,
     "title": ""
    }
   },
   "source": [
    "# Sama Python SDK Tutorial Notebook\n",
    "The Sama Python SDK enables you to quickly create, monitor, get annotated tasks right from Python.\n",
    "This tutorial will guide you through installation, configuration and sample usage.\n",
    "\n",
    "![](https://sama-documentation-assets.s3.amazonaws.com/sama-SDK.png)"
   ]
  },
  {
   "cell_type": "markdown",
   "metadata": {
    "application/vnd.databricks.v1+cell": {
     "cellMetadata": {},
     "inputWidgets": {},
     "nuid": "364587d0-8134-4958-9606-6ffaedab3650",
     "showTitle": false,
     "title": ""
    }
   },
   "source": [
    "# Install Sama Python SDK"
   ]
  },
  {
   "cell_type": "code",
   "execution_count": null,
   "metadata": {
    "application/vnd.databricks.v1+cell": {
     "cellMetadata": {
      "byteLimit": 2048000,
      "rowLimit": 10000
     },
     "inputWidgets": {},
     "nuid": "21e85b50-d2a3-4e35-ab63-72658683e6c5",
     "showTitle": false,
     "title": ""
    }
   },
   "outputs": [],
   "source": [
    "%pip install sama\n",
    "from sama import Client"
   ]
  },
  {
   "cell_type": "markdown",
   "metadata": {
    "application/vnd.databricks.v1+cell": {
     "cellMetadata": {},
     "inputWidgets": {},
     "nuid": "2489426a-fbf4-4c0f-b505-bb79648d75d7",
     "showTitle": false,
     "title": ""
    }
   },
   "source": [
    "# Configure the SDK\n",
    "####You need to specify:\n",
    "\n",
    "1. [Your API Key](https://accounts.sama.com)\n",
    "1. Your Sama Project ID\n",
    "\n",
    "#### Requirements\n",
    "Your Sama Project Manager will provide you with the correct Project ID(s). The following instructions also assume that your Project Manager has already configured all the necessary Sama Project inputs and outputs."
   ]
  },
  {
   "cell_type": "code",
   "execution_count": null,
   "metadata": {
    "application/vnd.databricks.v1+cell": {
     "cellMetadata": {
      "byteLimit": 2048000,
      "rowLimit": 10000
     },
     "inputWidgets": {},
     "nuid": "0cc23cd8-f5e7-4639-a141-1157e94cfc6c",
     "showTitle": false,
     "title": ""
    }
   },
   "outputs": [],
   "source": [
    "# Set your Sama API KEY\n",
    "API_KEY: str = \"\"\n",
    "# Set your project ID\n",
    "PROJECT_ID: str = \"\"\n",
    "\n",
    "if not(API_KEY):\n",
    "  raise ValueError(\"API_KEY not set\")\n",
    "if not(PROJECT_ID):\n",
    "  raise ValueError(\"PROJECT_ID not set\")\n",
    "\n",
    "client = Client(API_KEY)\n",
    "client.get_project_information(PROJECT_ID) # Verify config by calling Get Project Information endpoint. Throws exception if PROJECT_ID or API_KEY not valid."
   ]
  },
  {
   "cell_type": "markdown",
   "metadata": {
    "application/vnd.databricks.v1+cell": {
     "cellMetadata": {},
     "inputWidgets": {},
     "nuid": "d6fe25f3-a899-4dd0-9d98-a243f48ed3c1",
     "showTitle": false,
     "title": ""
    }
   },
   "source": [
    "# Usage\n",
    "\n",
    "Now that you are set up and properly configured, you can start: \n",
    "1. Creating tasks in the Sama Platform to be picked up by the annotators and quality teams.\n",
    "1. Monitoring batch, task, and project status.\n",
    "1. Get delivered tasks which have been annotated and reviewed by our quality team.\n",
    "1. Rejecting and deleting tasks.\n",
    "\n",
    "Note that, as an alternative, a [Sama API](https://docs.sama.com/reference/definitions) is also available for all of these and more."
   ]
  },
  {
   "cell_type": "code",
   "execution_count": null,
   "metadata": {
    "application/vnd.databricks.v1+cell": {
     "cellMetadata": {
      "byteLimit": 2048000,
      "rowLimit": 10000
     },
     "inputWidgets": {},
     "nuid": "886845af-79de-4ff0-9aa8-867c65cb36a5",
     "showTitle": true,
     "title": "Create batch of task"
    }
   },
   "outputs": [],
   "source": [
    "import json\n",
    "\n",
    "# create sample data. See sama.helpjuice.com for json schema of different output types\n",
    "sample_data = [{\n",
    "    'url': 'https://static.wikia.nocookie.net/speedracer/images/9/9a/Speed_Racer_behind_the_wheel.png',\n",
    "    'name': 'speed_racer_img_1',\n",
    "    'client_batch_id': 'speed_racer',\n",
    "    'output_weather_condition': {'rain': '0', 'snow': '0', 'clear': '1'},\n",
    "    'output_vehicle_image_annotation': {\n",
    "        'layers': {\n",
    "            'vector_tagging': [\n",
    "                {\n",
    "                    'shapes': [{\n",
    "                        'tags': {\n",
    "                            'transcription': '',\n",
    "                            'type_of_vehicle': '1'\n",
    "                        },\n",
    "                        'type': 'rectangle',\n",
    "                        'index': 1,\n",
    "                        'points': [[51, 20], [150, 20], [51, 72], [150, 72]]\n",
    "                    }],\n",
    "                    'group_type': None\n",
    "                },\n",
    "                {\n",
    "                    'shapes': [{\n",
    "                        'tags': {\n",
    "                            'transcription': '',\n",
    "                            'type_of_vehicle': '1'\n",
    "                        },\n",
    "                        'type': 'rectangle',\n",
    "                        'index': 2,\n",
    "                        'points': [[160, 71], [199, 71], [160, 83], [199, 83]]\n",
    "                    }],\n",
    "                    'group_type': None\n",
    "                }\n",
    "            ]\n",
    "        }\n",
    "    }\n",
    "},\n",
    "{\n",
    "    'url': 'https://media.comicbook.com/uploads1/2015/05/speed-racer-137552.jpg',\n",
    "    'name': 'speed_racer_img_2',\n",
    "    'client_batch_id': 'speed_racer',\n",
    "},\n",
    "{\n",
    "    'url': 'https://upload.wikimedia.org/wikipedia/en/8/81/Speed_Racer_Family.jpg',\n",
    "    'name': 'speed_racer_img_3',\n",
    "    'client_batch_id': 'speed_racer',\n",
    "},\n",
    "{\n",
    "    'url': 'https://upload.wikimedia.org/wikipedia/en/2/25/Speed_Racer_promotional_image.jpg',\n",
    "    'name': 'speed_racer_img_4',\n",
    "    'client_batch_id': 'speed_racer',\n",
    "}\n",
    "]\n",
    "\n",
    "# Create the batch of tasks\n",
    "client.create_task_batch(PROJECT_ID, task_data_records=sample_data, notification_email=\"youremail@mailbox.com\")"
   ]
  },
  {
   "cell_type": "code",
   "execution_count": null,
   "metadata": {
    "application/vnd.databricks.v1+cell": {
     "cellMetadata": {
      "byteLimit": 2048000,
      "rowLimit": 10000
     },
     "inputWidgets": {},
     "nuid": "fdf567f2-7161-4f52-a4d8-aacfc149e7d8",
     "showTitle": true,
     "title": "Get multi task status"
    }
   },
   "outputs": [],
   "source": [
    "from sama.constants import TaskStates\n",
    "# returns a dataframe of task data and its current status. See docs for additional filters.\n",
    "data = client.get_multi_task_status(PROJECT_ID, omit_answers=False, state=TaskStates.NEW) \n",
    "\n",
    "for item in data:\n",
    "    print(item)"
   ]
  },
  {
   "cell_type": "code",
   "execution_count": null,
   "metadata": {
    "application/vnd.databricks.v1+cell": {
     "cellMetadata": {
      "byteLimit": 2048000,
      "rowLimit": 10000
     },
     "inputWidgets": {},
     "nuid": "92f1bd4b-b727-412f-a1e7-70645d63b89c",
     "showTitle": true,
     "title": "Get single task status"
    }
   },
   "outputs": [],
   "source": [
    "# returns a dataframe of task data and its current status. See docs for additional filters.\n",
    "data = client.get_task_status(PROJECT_ID, task_id=\"testtaskid1\")\n",
    "\n",
    "for item in data:\n",
    "    print(item)"
   ]
  },
  {
   "cell_type": "code",
   "execution_count": null,
   "metadata": {
    "application/vnd.databricks.v1+cell": {
     "cellMetadata": {
      "byteLimit": 2048000,
      "rowLimit": 10000
     },
     "inputWidgets": {},
     "nuid": "ba666c21-d7f7-4740-930e-6b6e69382014",
     "showTitle": true,
     "title": "Get deliveries"
    }
   },
   "outputs": [],
   "source": [
    "# returns a dataframe of delivered(fully annotated) task data and answers. See docs for additional filters.\n",
    "data = client.get_delivered_tasks(PROJECT_ID, client_batch_id=\"testtaskid1\", from_timestamp=\"2023-09-13T00:00:00.000Z\") \n",
    "\n",
    "for item in data:\n",
    "    print(item)"
   ]
  },
  {
   "cell_type": "code",
   "execution_count": null,
   "metadata": {
    "application/vnd.databricks.v1+cell": {
     "cellMetadata": {
      "byteLimit": 2048000,
      "rowLimit": 10000
     },
     "inputWidgets": {},
     "nuid": "58ee04c4-a94e-4e1d-902c-09b5cfc58909",
     "showTitle": true,
     "title": "Get deliveries since last call"
    }
   },
   "outputs": [],
   "source": [
    "# returns a dataframe of delivered(fully annotated) task data and answers since the last call to this endpoint with a specific consumer key. See docs for additional filters.\n",
    "data = client.get_delivered_tasks_since_last_call(PROJECT_ID, consumer=\"consumer value\") \n",
    "\n",
    "for item in data:\n",
    "    print(item)"
   ]
  },
  {
   "cell_type": "markdown",
   "metadata": {
    "application/vnd.databricks.v1+cell": {
     "cellMetadata": {},
     "inputWidgets": {},
     "nuid": "303cf4d9-d8df-489d-935f-18f6f02aa2d4",
     "showTitle": false,
     "title": ""
    }
   },
   "source": [
    "# Other SDK functions\n",
    "1. Get task and delivery schemas\n",
    "1. Get status and cancel batch creation jobs\n",
    "1. Update task priorities\n",
    "1. Reject and delete tasks\n",
    "1. Get project stats and information\n",
    "\n",
    "Please see full documentation on [GitHub](https://github.com/Samasource/sama-python-client)"
   ]
  },
  {
   "cell_type": "code",
   "execution_count": null,
   "metadata": {
    "application/vnd.databricks.v1+cell": {
     "cellMetadata": {
      "byteLimit": 2048000,
      "rowLimit": 10000
     },
     "inputWidgets": {},
     "nuid": "0bc4ac81-d388-4b97-972e-25392eb86f92",
     "showTitle": true,
     "title": "Get creation task schema"
    }
   },
   "outputs": [],
   "source": [
    "# get task creation schema\n",
    "client.get_creation_task_schema(PROJECT_ID)"
   ]
  },
  {
   "cell_type": "code",
   "execution_count": null,
   "metadata": {
    "application/vnd.databricks.v1+cell": {
     "cellMetadata": {
      "byteLimit": 2048000,
      "rowLimit": 10000
     },
     "inputWidgets": {},
     "nuid": "478fba71-c2e6-48af-b66e-78d14310a6c9",
     "showTitle": true,
     "title": "Get delivery task schema"
    }
   },
   "outputs": [],
   "source": [
    "# get delivery task schema\n",
    "client.get_delivery_task_schema(PROJECT_ID)"
   ]
  },
  {
   "cell_type": "code",
   "execution_count": null,
   "metadata": {
    "application/vnd.databricks.v1+cell": {
     "cellMetadata": {},
     "inputWidgets": {},
     "nuid": "52cfd5aa-c187-443b-8171-ed0011c3e404",
     "showTitle": true,
     "title": "Cancel batch creation job"
    }
   },
   "outputs": [],
   "source": [
    "# cancel a batch creation job\n",
    "client.cancel_batch_creation_job(PROJECT_ID, \"testbatchid12345\")"
   ]
  },
  {
   "cell_type": "code",
   "execution_count": null,
   "metadata": {
    "application/vnd.databricks.v1+cell": {
     "cellMetadata": {},
     "inputWidgets": {},
     "nuid": "a19458fe-1ebb-4f70-bec6-fd9fb2a2bd1e",
     "showTitle": true,
     "title": "Update task priorities"
    }
   },
   "outputs": [],
   "source": [
    "# update task priorities\n",
    "client.update_task_priorities(PROJECT_ID, [\"testtaskid1\", \"testtaskid2\"], -100)"
   ]
  },
  {
   "cell_type": "code",
   "execution_count": null,
   "metadata": {
    "application/vnd.databricks.v1+cell": {
     "cellMetadata": {
      "byteLimit": 2048000,
      "rowLimit": 10000
     },
     "inputWidgets": {},
     "nuid": "655ad191-aeab-401f-914e-7b047b08eb42",
     "showTitle": true,
     "title": "Reject a task"
    }
   },
   "outputs": [],
   "source": [
    "# reject a task\n",
    "client.reject_task(PROJECT_ID, task_id=\"testtaskid3\", reasons=[\"Not accurate\"])"
   ]
  },
  {
   "cell_type": "code",
   "execution_count": null,
   "metadata": {
    "application/vnd.databricks.v1+cell": {
     "cellMetadata": {},
     "inputWidgets": {},
     "nuid": "47b2b8c1-f3e9-4913-8ad5-e7ec4e793764",
     "showTitle": true,
     "title": "Delete tasks"
    }
   },
   "outputs": [],
   "source": [
    "# delete tasks\n",
    "client.delete_tasks(PROJECT_ID, [\"testtaskid4\", \"testtaskid5\"])"
   ]
  },
  {
   "cell_type": "code",
   "execution_count": null,
   "metadata": {
    "application/vnd.databricks.v1+cell": {
     "cellMetadata": {
      "byteLimit": 2048000,
      "rowLimit": 10000
     },
     "inputWidgets": {},
     "nuid": "b428ee3b-ef55-400a-9648-9a4e07f1387e",
     "showTitle": true,
     "title": "Get status of batch creation Job"
    }
   },
   "outputs": [],
   "source": [
    "# get status of batch creation job\n",
    "statuses = client.get_status_batch_creation_job(PROJECT_ID, \"testbatchid\")\n",
    "\n",
    "for item in statuses:\n",
    "    print(item)"
   ]
  },
  {
   "cell_type": "code",
   "execution_count": null,
   "metadata": {
    "application/vnd.databricks.v1+cell": {
     "cellMetadata": {
      "byteLimit": 2048000,
      "rowLimit": 10000
     },
     "inputWidgets": {},
     "nuid": "42234516-39b8-495c-abf0-f2da392ea433",
     "showTitle": true,
     "title": "Get project information"
    }
   },
   "outputs": [],
   "source": [
    "# get project information\n",
    "client.get_project_information(PROJECT_ID)"
   ]
  },
  {
   "cell_type": "code",
   "execution_count": null,
   "metadata": {
    "application/vnd.databricks.v1+cell": {
     "cellMetadata": {
      "byteLimit": 2048000,
      "rowLimit": 10000
     },
     "inputWidgets": {},
     "nuid": "33c9c335-91a3-4d21-a542-eaf69e3b1f5b",
     "showTitle": true,
     "title": "Get project stats"
    }
   },
   "outputs": [],
   "source": [
    "# get project stats\n",
    "client.get_project_stats(PROJECT_ID)"
   ]
  }
 ],
 "metadata": {
  "application/vnd.databricks.v1+notebook": {
   "dashboards": [],
   "language": "python",
   "notebookMetadata": {
    "pythonIndentUnit": 4
   },
   "notebookName": "Sama Python SDK Tutorial",
   "widgets": {}
  },
  "language_info": {
   "name": "python"
  }
 },
 "nbformat": 4,
 "nbformat_minor": 0
}
